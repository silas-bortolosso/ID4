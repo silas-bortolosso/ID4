{
 "cells": [
  {
   "cell_type": "code",
   "execution_count": 4,
   "metadata": {},
   "outputs": [],
   "source": [
    "import requests\n",
    "from bs4 import BeautifulSoup\n",
    "import re\n",
    "import pandas as pd"
   ]
  },
  {
   "cell_type": "code",
   "execution_count": null,
   "metadata": {},
   "outputs": [],
   "source": [
    "##Importando o site e comando 'cabeçalho' para o http não reconhecer como bot\n",
    "cabecalho = {'user-agent': 'Mozilla/5.0'}\n",
    "resposta = requests.get('https://www.glassdoor.com.br/Sal%C3%A1rios/s%C3%A3o-paulo-cientista-de-dados-sal%C3%A1rio-SRCH_IL.0,9_IM1009_KO10,28.htm?clickSource=searchBtn',\n",
    "                        headers = cabecalho)\n",
    "\n",
    "resposta.text"
   ]
  },
  {
   "cell_type": "code",
   "execution_count": 20,
   "metadata": {},
   "outputs": [
    {
     "data": {
      "text/plain": [
       "<Response [200]>"
      ]
     },
     "execution_count": 20,
     "metadata": {},
     "output_type": "execute_result"
    }
   ],
   "source": [
    "resposta"
   ]
  },
  {
   "cell_type": "code",
   "execution_count": null,
   "metadata": {},
   "outputs": [],
   "source": [
    "##Atribuindo a url\n",
    "sopao = resposta.text\n",
    "sopao\n"
   ]
  },
  {
   "cell_type": "code",
   "execution_count": null,
   "metadata": {},
   "outputs": [],
   "source": [
    "## Usando o BeautifulSoup para organizar o html\n",
    "sopa_bonita = BeautifulSoup(sopao, 'html.parser')\n",
    "sopa_bonita"
   ]
  },
  {
   "cell_type": "code",
   "execution_count": null,
   "metadata": {},
   "outputs": [],
   "source": [
    "## Filrando com a funçao find_all\n",
    "Lista_Empresa = sopa_bonita.find_all('h3', {'data-test': re.compile(\"salaries-list-item-.*-employer-name\")})\n",
    "Lista_Empresa"
   ]
  },
  {
   "cell_type": "code",
   "execution_count": 27,
   "metadata": {},
   "outputs": [
    {
     "data": {
      "text/plain": [
       "<h3 class=\"m-0 css-g261rn\" data-test=\"salaries-list-item-0-employer-name\"><style data-emotion-css=\"f3vw95\">.css-f3vw95{cursor:pointer;font-size:15px;line-height:24px;color:#1861bf;font-size:inherit;}.css-f3vw95:hover{color:#0c4085;}</style><a class=\"css-f3vw95 e1aj7ssy3\" href=\"/Salário/Itaú-Unibanco-Itaú-BBA-e-Rede-Cientista-De-Dados-São-Paulo-EJI_IE10999.0,29_KO30,48_IL.49,58_IM1009.htm?filter.payPeriod=MONTHLY\">Itaú Unibanco (Itaú BBA e Rede)</a></h3>"
      ]
     },
     "execution_count": 27,
     "metadata": {},
     "output_type": "execute_result"
    }
   ],
   "source": [
    "##Observando o Lista_Empresa podemos \n",
    "# identificar 2 classes filhas (style, hred)\n",
    "# sendo assim podemos pegar os objetos por posições\n",
    "Lista_Empresa[0]"
   ]
  },
  {
   "cell_type": "code",
   "execution_count": 29,
   "metadata": {},
   "outputs": [
    {
     "data": {
      "text/plain": [
       "'Itaú Unibanco (Itaú BBA e Rede)'"
      ]
     },
     "execution_count": 29,
     "metadata": {},
     "output_type": "execute_result"
    }
   ],
   "source": [
    "#Para capturar classes filhas, utilizar o contents\n",
    "#Para capturar contudos, utilizar o text\n",
    "# Metodo para capturar os dados\n",
    "Lista_Empresa[0].contents[1].text"
   ]
  },
  {
   "cell_type": "code",
   "execution_count": 33,
   "metadata": {},
   "outputs": [
    {
     "data": {
      "text/plain": [
       "'Semantix'"
      ]
     },
     "execution_count": 33,
     "metadata": {},
     "output_type": "execute_result"
    }
   ],
   "source": [
    "#Extraindo nome das empresas\n",
    "Lista_Empresa[1].find('a').text"
   ]
  },
  {
   "cell_type": "code",
   "execution_count": null,
   "metadata": {},
   "outputs": [],
   "source": [
    "#Extraindo o nome de todas as empresas\n",
    "for empresas in Lista_Empresa:\n",
    "    nome_empresa = (empresas.find('a').text)\n",
    "    print(nome_empresa)"
   ]
  },
  {
   "cell_type": "code",
   "execution_count": null,
   "metadata": {},
   "outputs": [],
   "source": [
    "##Encontrando o div que contem as informações do salario\n",
    "## utilizando o find_all\n",
    "## o re.compile(.* para trazer todos elementos)  será utilizado para trazer todos os itens da lista\n",
    "lista_salario= sopa_bonita.find_all('div', {\"data-test\" :re.compile('salaries-list-item-.*-salary-info')})\n"
   ]
  },
  {
   "cell_type": "code",
   "execution_count": null,
   "metadata": {},
   "outputs": [],
   "source": [
    "for salario in lista_salario:\n",
    "    salario = salario.contents[0].text\n",
    "    salario = salario.replace('R$','').replace('Cerca de', '5.000')\n",
    "    print(salario)"
   ]
  },
  {
   "cell_type": "code",
   "execution_count": 40,
   "metadata": {},
   "outputs": [
    {
     "name": "stdout",
     "output_type": "stream",
     "text": [
      "Itaú Unibanco (Itaú BBA e Rede) -  7.769\n",
      "Semantix -  8.140\n",
      "IBM -  7.000\n",
      "Hospital Israelita Albert Einstein -  12.579\n",
      "Propz -  6.741\n",
      "Banco Bradesco -  7.071\n",
      "Ambev -  8.430\n",
      "TOTVS -  10.981\n",
      "Magazine Luiza -  10.160\n",
      "Qintess -  8.107\n",
      "Vivo (Telefônica Brasil) -  10.053\n",
      "Nubank -  13.000\n",
      "Hospital Israelita Albert Einstein -  10.356\n",
      "Guiabolso -  8.566\n",
      "Dextra -  7.778\n",
      "EY -  3.473\n",
      "Loft - 5.000\n",
      "PicPay - 5.000\n",
      "Youse Seguros - 5.000\n",
      "Braskem - 5.000\n"
     ]
    }
   ],
   "source": [
    "## Utilizando zip para juntaras listas\n",
    "for empresas, salario in zip(Lista_Empresa,lista_salario):\n",
    "    nome_empresa = (empresas.find('a').text)\n",
    "    \n",
    "    salario = salario.contents[0].text\n",
    "    salario = salario.replace('R$','').replace('Cerca de', '5.000')\n",
    "  \n",
    "    print(f'{nome_empresa} - {salario}')\n",
    "  "
   ]
  },
  {
   "cell_type": "code",
   "execution_count": null,
   "metadata": {},
   "outputs": [],
   "source": [
    "#Criando o data-frame\n",
    "lista_todos_salarios = []\n",
    "\n",
    "\n",
    "for empresas, salario in zip(Lista_Empresa,lista_salario):\n",
    "    nome_empresa = (empresas.find('a').text)\n",
    "    \n",
    "    salario = salario.contents[0].text\n",
    "    salario = salario.replace('R$','').replace('Cerca de', '5.000')\n",
    "    \n",
    "    lista_todos_salarios.append((nome_empresa,salario))\n",
    "\n",
    "lista_todos_salarios\n"
   ]
  },
  {
   "cell_type": "code",
   "execution_count": 18,
   "metadata": {},
   "outputs": [
    {
     "data": {
      "text/html": [
       "<div>\n",
       "<style scoped>\n",
       "    .dataframe tbody tr th:only-of-type {\n",
       "        vertical-align: middle;\n",
       "    }\n",
       "\n",
       "    .dataframe tbody tr th {\n",
       "        vertical-align: top;\n",
       "    }\n",
       "\n",
       "    .dataframe thead th {\n",
       "        text-align: right;\n",
       "    }\n",
       "</style>\n",
       "<table border=\"1\" class=\"dataframe\">\n",
       "  <thead>\n",
       "    <tr style=\"text-align: right;\">\n",
       "      <th></th>\n",
       "      <th>0</th>\n",
       "      <th>1</th>\n",
       "    </tr>\n",
       "  </thead>\n",
       "  <tbody>\n",
       "    <tr>\n",
       "      <th>0</th>\n",
       "      <td>Itaú Unibanco (Itaú BBA e Rede)</td>\n",
       "      <td>7.769</td>\n",
       "    </tr>\n",
       "    <tr>\n",
       "      <th>1</th>\n",
       "      <td>Semantix</td>\n",
       "      <td>8.140</td>\n",
       "    </tr>\n",
       "    <tr>\n",
       "      <th>2</th>\n",
       "      <td>IBM</td>\n",
       "      <td>7.000</td>\n",
       "    </tr>\n",
       "    <tr>\n",
       "      <th>3</th>\n",
       "      <td>Hospital Israelita Albert Einstein</td>\n",
       "      <td>12.579</td>\n",
       "    </tr>\n",
       "    <tr>\n",
       "      <th>4</th>\n",
       "      <td>Propz</td>\n",
       "      <td>6.741</td>\n",
       "    </tr>\n",
       "    <tr>\n",
       "      <th>5</th>\n",
       "      <td>Banco Bradesco</td>\n",
       "      <td>7.071</td>\n",
       "    </tr>\n",
       "    <tr>\n",
       "      <th>6</th>\n",
       "      <td>Ambev</td>\n",
       "      <td>8.430</td>\n",
       "    </tr>\n",
       "    <tr>\n",
       "      <th>7</th>\n",
       "      <td>TOTVS</td>\n",
       "      <td>10.981</td>\n",
       "    </tr>\n",
       "    <tr>\n",
       "      <th>8</th>\n",
       "      <td>Magazine Luiza</td>\n",
       "      <td>10.160</td>\n",
       "    </tr>\n",
       "    <tr>\n",
       "      <th>9</th>\n",
       "      <td>Qintess</td>\n",
       "      <td>8.107</td>\n",
       "    </tr>\n",
       "    <tr>\n",
       "      <th>10</th>\n",
       "      <td>Vivo (Telefônica Brasil)</td>\n",
       "      <td>10.053</td>\n",
       "    </tr>\n",
       "    <tr>\n",
       "      <th>11</th>\n",
       "      <td>Nubank</td>\n",
       "      <td>13.000</td>\n",
       "    </tr>\n",
       "    <tr>\n",
       "      <th>12</th>\n",
       "      <td>Hospital Israelita Albert Einstein</td>\n",
       "      <td>10.356</td>\n",
       "    </tr>\n",
       "    <tr>\n",
       "      <th>13</th>\n",
       "      <td>Guiabolso</td>\n",
       "      <td>8.566</td>\n",
       "    </tr>\n",
       "    <tr>\n",
       "      <th>14</th>\n",
       "      <td>Dextra</td>\n",
       "      <td>7.778</td>\n",
       "    </tr>\n",
       "    <tr>\n",
       "      <th>15</th>\n",
       "      <td>EY</td>\n",
       "      <td>3.473</td>\n",
       "    </tr>\n",
       "    <tr>\n",
       "      <th>16</th>\n",
       "      <td>Loft</td>\n",
       "      <td>5.000</td>\n",
       "    </tr>\n",
       "    <tr>\n",
       "      <th>17</th>\n",
       "      <td>PicPay</td>\n",
       "      <td>5.000</td>\n",
       "    </tr>\n",
       "    <tr>\n",
       "      <th>18</th>\n",
       "      <td>Youse Seguros</td>\n",
       "      <td>5.000</td>\n",
       "    </tr>\n",
       "    <tr>\n",
       "      <th>19</th>\n",
       "      <td>Braskem</td>\n",
       "      <td>5.000</td>\n",
       "    </tr>\n",
       "  </tbody>\n",
       "</table>\n",
       "</div>"
      ],
      "text/plain": [
       "                                     0        1\n",
       "0      Itaú Unibanco (Itaú BBA e Rede)    7.769\n",
       "1                             Semantix    8.140\n",
       "2                                  IBM    7.000\n",
       "3   Hospital Israelita Albert Einstein   12.579\n",
       "4                                Propz    6.741\n",
       "5                       Banco Bradesco    7.071\n",
       "6                                Ambev    8.430\n",
       "7                                TOTVS   10.981\n",
       "8                       Magazine Luiza   10.160\n",
       "9                              Qintess    8.107\n",
       "10            Vivo (Telefônica Brasil)   10.053\n",
       "11                              Nubank   13.000\n",
       "12  Hospital Israelita Albert Einstein   10.356\n",
       "13                           Guiabolso    8.566\n",
       "14                              Dextra    7.778\n",
       "15                                  EY    3.473\n",
       "16                                Loft    5.000\n",
       "17                              PicPay    5.000\n",
       "18                       Youse Seguros    5.000\n",
       "19                             Braskem    5.000"
      ]
     },
     "execution_count": 18,
     "metadata": {},
     "output_type": "execute_result"
    }
   ],
   "source": [
    "df_salarios = pd.DataFrame(lista_todos_salarios)\n",
    "\n",
    "df_salarios\n"
   ]
  }
 ],
 "metadata": {
  "interpreter": {
   "hash": "aee8b7b246df8f9039afb4144a1f6fd8d2ca17a180786b69acc140d282b71a49"
  },
  "kernelspec": {
   "display_name": "Python 3.9.2 64-bit",
   "language": "python",
   "name": "python3"
  },
  "language_info": {
   "codemirror_mode": {
    "name": "ipython",
    "version": 3
   },
   "file_extension": ".py",
   "mimetype": "text/x-python",
   "name": "python",
   "nbconvert_exporter": "python",
   "pygments_lexer": "ipython3",
   "version": "3.9.2"
  },
  "orig_nbformat": 4
 },
 "nbformat": 4,
 "nbformat_minor": 2
}
